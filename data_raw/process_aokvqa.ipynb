{
 "cells": [
  {
   "cell_type": "code",
   "execution_count": null,
   "id": "46edb7a2",
   "metadata": {},
   "outputs": [],
   "source": [
    "import os \n",
    "os.getcwd()"
   ]
  },
  {
   "cell_type": "code",
   "execution_count": null,
   "id": "085e5695",
   "metadata": {},
   "outputs": [],
   "source": [
    "import json\n",
    "import pandas as pd\n",
    "from pathlib import Path\n",
    "\n",
    "DATA_ROOT = Path(\"./\")\n",
    "AOKVQA_DIR = DATA_ROOT / \"aokvqa\"\n",
    "COCO_DIR = DATA_ROOT / \"coco\"\n",
    "\n",
    "JSON_FILES = {\n",
    "    \"train\": AOKVQA_DIR / \"aokvqa_v1p0_train.json\",\n",
    "    \"val\": AOKVQA_DIR / \"aokvqa_v1p0_val.json\",\n",
    "    \"test\": AOKVQA_DIR / \"aokvqa_v1p0_test.json\",\n",
    "}\n",
    "\n",
    "def choose_answer(item):\n",
    "    if \"choices\" in item and \"correct_choice_idx\" in item:\n",
    "        idx = item.get(\"correct_choice_idx\")\n",
    "        if isinstance(idx, int) and 0 <= idx < len(item[\"choices\"]):\n",
    "            return item[\"choices\"][idx]\n",
    "    das = item.get(\"direct_answers\") or []\n",
    "    return das[0] if das else \"\"\n",
    "\n",
    "def choose_rationale(item):\n",
    "    rats = item.get(\"rationales\") or []\n",
    "    return rats[0] if rats else \"\"\n",
    "\n",
    "def format_choices(item):\n",
    "    opts = item.get(\"choices\") or []\n",
    "    labels = \"ABCDEFGHIJKLMNOPQRSTUVWXYZ\"\n",
    "    return \"\\n\".join(f\"({labels[i]}) {opt}\" for i, opt in enumerate(opts))\n",
    "\n",
    "def coco_image_path(split, image_id):\n",
    "    split_dir = f\"{split}2017\"\n",
    "    filename = f\"{image_id:012d}.jpg\"\n",
    "    return str(COCO_DIR / split_dir / filename)\n",
    "\n",
    "\n",
    "def map_image_path(p):\n",
    "    s = str(p)\n",
    "    s = s.replace(\"coco/\", \"data/images/aokvqa/\")\n",
    "    return s\n",
    "    \n",
    "def build_df(split, json_path):\n",
    "    with open(json_path, \"r\", encoding=\"utf-8\") as f:\n",
    "        items = json.load(f)\n",
    "    rows = []\n",
    "    for it in items:\n",
    "        rows.append({\n",
    "            \"image_path\": coco_image_path(split, it[\"image_id\"]),\n",
    "            \"question\": it.get(\"question\", \"\"),\n",
    "            \"answer\": choose_answer(it),\n",
    "            \"rationale\": choose_rationale(it),\n",
    "            \"choices\": format_choices(it),\n",
    "        })\n",
    "    df = pd.DataFrame(rows, columns=[\"image_path\", \"question\", \"answer\", \"rationale\", \"choices\"])\n",
    "    df[\"image_path\"] = df[\"image_path\"].apply(map_image_path)\n",
    "    return df\n",
    "\n"
   ]
  },
  {
   "cell_type": "code",
   "execution_count": null,
   "id": "9d84c24a",
   "metadata": {},
   "outputs": [],
   "source": [
    "\n",
    "df_train = build_df(\"train\", JSON_FILES[\"train\"])\n",
    "df_val = build_df(\"val\", JSON_FILES[\"val\"])\n",
    "df_test = build_df(\"test\", JSON_FILES[\"test\"])\n",
    "df_train"
   ]
  },
  {
   "cell_type": "code",
   "execution_count": null,
   "id": "1e6352e5",
   "metadata": {},
   "outputs": [],
   "source": [
    "PARQUET_DIR = AOKVQA_DIR / \"parquet\"\n",
    "PARQUET_DIR.mkdir(parents=True, exist_ok=True)\n",
    "\n",
    "df_train.to_parquet(PARQUET_DIR / \"train.parquet\", index=False)\n",
    "df_val.to_parquet(PARQUET_DIR / \"val.parquet\", index=False)\n",
    "df_test.to_parquet(PARQUET_DIR / \"test.parquet\", index=False)"
   ]
  },
  {
   "cell_type": "code",
   "execution_count": null,
   "id": "32025c39",
   "metadata": {},
   "outputs": [],
   "source": [
    "from tokens import HF_TOKEN\n",
    "from huggingface_hub import HfApi, create_repo, upload_folder, upload_file\n",
    "from huggingface_hub.utils import disable_progress_bars\n",
    "disable_progress_bars()\n",
    "\n",
    "api = HfApi(token=HF_TOKEN)\n",
    "repo_id = \"JJoy333/RationaleVQA\"\n",
    "create_repo(repo_id=repo_id, repo_type=\"dataset\", exist_ok=True)\n",
    "\n",
    "\n",
    "upload_folder(\n",
    "    folder_path=str(PARQUET_DIR),\n",
    "    repo_id=repo_id,\n",
    "    repo_type=\"dataset\",\n",
    "    path_in_repo=\"AOKVQA\"\n",
    ")\n"
   ]
  },
  {
   "cell_type": "code",
   "execution_count": null,
   "id": "519eec96",
   "metadata": {},
   "outputs": [],
   "source": []
  }
 ],
 "metadata": {
  "kernelspec": {
   "display_name": "revlm",
   "language": "python",
   "name": "python3"
  },
  "language_info": {
   "codemirror_mode": {
    "name": "ipython",
    "version": 3
   },
   "file_extension": ".py",
   "mimetype": "text/x-python",
   "name": "python",
   "nbconvert_exporter": "python",
   "pygments_lexer": "ipython3",
   "version": "3.10.0"
  }
 },
 "nbformat": 4,
 "nbformat_minor": 5
}
